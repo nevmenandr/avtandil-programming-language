{
 "cells": [
  {
   "cell_type": "markdown",
   "id": "94165176",
   "metadata": {},
   "source": [
    "# Парсер грамматики автандила"
   ]
  },
  {
   "cell_type": "markdown",
   "id": "cd221fb7",
   "metadata": {},
   "source": [
    "## Lark"
   ]
  },
  {
   "cell_type": "markdown",
   "id": "6610d76f",
   "metadata": {},
   "source": [
    "### calculator"
   ]
  },
  {
   "cell_type": "code",
   "execution_count": 1,
   "id": "c961565a",
   "metadata": {},
   "outputs": [],
   "source": [
    "from lark import Lark, Transformer, v_args"
   ]
  },
  {
   "cell_type": "code",
   "execution_count": 2,
   "id": "84a31586",
   "metadata": {},
   "outputs": [],
   "source": [
    "calc_grammar = \"\"\"\n",
    "    ?start: sum\n",
    "          | NAME \"=\" sum    -> assign_var\n",
    "    ?sum: product\n",
    "        | sum \"+\" product   -> add\n",
    "        | sum \"-\" product   -> sub\n",
    "    ?product: atom\n",
    "        | product \"*\" atom  -> mul\n",
    "        | product \"/\" atom  -> div\n",
    "    ?atom: NUMBER           -> number\n",
    "         | \"-\" atom         -> neg\n",
    "         | NAME             -> var\n",
    "         | \"(\" sum \")\"\n",
    "    %import common.CNAME -> NAME\n",
    "    %import common.NUMBER\n",
    "    %import common.WS_INLINE\n",
    "    %ignore WS_INLINE\n",
    "\"\"\""
   ]
  },
  {
   "cell_type": "code",
   "execution_count": 3,
   "id": "3a31adab",
   "metadata": {},
   "outputs": [],
   "source": [
    "@v_args(inline=True)    # Affects the signatures of the methods\n",
    "class CalculateTree(Transformer):\n",
    "    from operator import add, sub, mul, truediv as div, neg\n",
    "    number = float\n",
    "\n",
    "    def __init__(self):\n",
    "        self.vars = {}\n",
    "\n",
    "    def assign_var(self, name, value):\n",
    "        self.vars[name] = value\n",
    "        return value\n",
    "\n",
    "    def var(self, name):\n",
    "        try:\n",
    "            return self.vars[name]\n",
    "        except KeyError:\n",
    "            raise Exception(\"Variable not found: %s\" % name)"
   ]
  },
  {
   "cell_type": "code",
   "execution_count": 4,
   "id": "9978072e",
   "metadata": {},
   "outputs": [],
   "source": [
    "calc_parser = Lark(calc_grammar, parser='lalr', transformer=CalculateTree())"
   ]
  },
  {
   "cell_type": "code",
   "execution_count": 5,
   "id": "b221b40d",
   "metadata": {},
   "outputs": [],
   "source": [
    "calc = calc_parser.parse"
   ]
  },
  {
   "cell_type": "code",
   "execution_count": 6,
   "id": "de82c747",
   "metadata": {},
   "outputs": [
    {
     "data": {
      "text/plain": [
       "3.0"
      ]
     },
     "execution_count": 6,
     "metadata": {},
     "output_type": "execute_result"
    }
   ],
   "source": [
    "calc(\"a = 1+2\")"
   ]
  },
  {
   "cell_type": "code",
   "execution_count": 7,
   "id": "f56dce5e",
   "metadata": {},
   "outputs": [
    {
     "data": {
      "text/plain": [
       "-8.0"
      ]
     },
     "execution_count": 7,
     "metadata": {},
     "output_type": "execute_result"
    }
   ],
   "source": [
    "calc(\"1+a*-3\")"
   ]
  },
  {
   "cell_type": "markdown",
   "id": "ca411558",
   "metadata": {},
   "source": [
    "### calculator +"
   ]
  },
  {
   "cell_type": "code",
   "execution_count": 17,
   "id": "cb4f12be",
   "metadata": {},
   "outputs": [],
   "source": [
    "calc_grammar = \"\"\"\n",
    "    ?start: sum\n",
    "          | NAME \"=\" sum    -> assign_var\n",
    "    ?sum: product\n",
    "        | \"ᛝ\" sum product   -> add\n",
    "        | \"ᚸ\" sum product   -> sub\n",
    "    ?product: atom\n",
    "        | \"ᛪ\" product atom  -> mul\n",
    "        | \"ᛄ\" product atom  -> div\n",
    "    ?atom: NUMBER           -> number\n",
    "         | \"-\" atom         -> neg\n",
    "         | NAME             -> var\n",
    "         | \"(\" sum \")\"\n",
    "    %import common.CNAME -> NAME\n",
    "    %import common.NUMBER\n",
    "    %import common.WS_INLINE\n",
    "    %ignore WS_INLINE\n",
    "\"\"\""
   ]
  },
  {
   "cell_type": "code",
   "execution_count": 18,
   "id": "6a377c9c",
   "metadata": {},
   "outputs": [],
   "source": [
    "calc_parser = Lark(calc_grammar, parser='lalr', transformer=CalculateTree())\n",
    "calc = calc_parser.parse"
   ]
  },
  {
   "cell_type": "code",
   "execution_count": 19,
   "id": "9467840b",
   "metadata": {},
   "outputs": [
    {
     "data": {
      "text/plain": [
       "12.0"
      ]
     },
     "execution_count": 19,
     "metadata": {},
     "output_type": "execute_result"
    }
   ],
   "source": [
    "calc(\"a = ᛪ 3 4\")"
   ]
  },
  {
   "cell_type": "code",
   "execution_count": 16,
   "id": "fb1c4793",
   "metadata": {},
   "outputs": [
    {
     "data": {
      "text/plain": [
       "-1.0"
      ]
     },
     "execution_count": 16,
     "metadata": {},
     "output_type": "execute_result"
    }
   ],
   "source": [
    "calc(\"a = ᚸ 1 2\")"
   ]
  },
  {
   "cell_type": "code",
   "execution_count": 21,
   "id": "0c62ff48",
   "metadata": {},
   "outputs": [],
   "source": [
    "#calc(\"a = ᚸ 1 2 ᛝ 3 4\") # не работает"
   ]
  },
  {
   "cell_type": "markdown",
   "id": "7130d6b0",
   "metadata": {},
   "source": [
    "## Turtle "
   ]
  },
  {
   "cell_type": "markdown",
   "id": "6dedb180",
   "metadata": {},
   "source": [
    "https://github.com/lark-parser/lark/blob/master/examples/turtle_dsl.py"
   ]
  },
  {
   "cell_type": "code",
   "execution_count": 22,
   "id": "5a2c7162",
   "metadata": {},
   "outputs": [],
   "source": [
    "from lark import Lark"
   ]
  },
  {
   "cell_type": "markdown",
   "id": "a4e0122e",
   "metadata": {},
   "source": [
    "### turtle_grammar"
   ]
  },
  {
   "cell_type": "code",
   "execution_count": 23,
   "id": "93be46ee",
   "metadata": {},
   "outputs": [],
   "source": [
    "turtle_grammar = \"\"\"\n",
    "    start: instruction+\n",
    "    instruction: MOVEMENT NUMBER            -> movement\n",
    "               | \"c\" COLOR [COLOR]          -> change_color\n",
    "               | \"fill\" code_block          -> fill\n",
    "               | \"repeat\" NUMBER code_block -> repeat\n",
    "    code_block: \"{\" instruction+ \"}\"\n",
    "    MOVEMENT: \"f\"|\"b\"|\"l\"|\"r\"\n",
    "    COLOR: LETTER+\n",
    "    %import common.LETTER\n",
    "    %import common.INT -> NUMBER\n",
    "    %import common.WS\n",
    "    %ignore WS\n",
    "\"\"\""
   ]
  },
  {
   "cell_type": "code",
   "execution_count": 24,
   "id": "4ec6496c",
   "metadata": {},
   "outputs": [],
   "source": [
    "parser = Lark(turtle_grammar)"
   ]
  },
  {
   "cell_type": "code",
   "execution_count": 25,
   "id": "ccbcb60b",
   "metadata": {},
   "outputs": [],
   "source": [
    "def run_turtle(program):\n",
    "    parse_tree = parser.parse(program)\n",
    "    for inst in parse_tree.children:\n",
    "        run_instruction(inst)"
   ]
  },
  {
   "cell_type": "code",
   "execution_count": 26,
   "id": "97b7ca02",
   "metadata": {},
   "outputs": [],
   "source": [
    "def run_instruction(t):\n",
    "    if t.data == 'change_color':\n",
    "        turtle.color(*t.children)   # We just pass the color names as-is\n",
    "\n",
    "    elif t.data == 'movement':\n",
    "        name, number = t.children\n",
    "        { 'f': turtle.fd,\n",
    "          'b': turtle.bk,\n",
    "          'l': turtle.lt,\n",
    "          'r': turtle.rt, }[name](int(number))\n",
    "\n",
    "    elif t.data == 'repeat':\n",
    "        count, block = t.children\n",
    "        for i in range(int(count)):\n",
    "            run_instruction(block)\n",
    "\n",
    "    elif t.data == 'fill':\n",
    "        turtle.begin_fill()\n",
    "        run_instruction(t.children[0])\n",
    "        turtle.end_fill()\n",
    "\n",
    "    elif t.data == 'code_block':\n",
    "        for cmd in t.children:\n",
    "            run_instruction(cmd)\n",
    "    else:\n",
    "        raise SyntaxError('Unknown instruction: %s' % t.data)"
   ]
  },
  {
   "cell_type": "code",
   "execution_count": 27,
   "id": "7c23ebbb",
   "metadata": {},
   "outputs": [],
   "source": [
    "text = \"\"\"\n",
    "        c red yellow\n",
    "        fill { repeat 36 {\n",
    "            f200 l170\n",
    "        }}\n",
    "    \"\"\""
   ]
  },
  {
   "cell_type": "code",
   "execution_count": 29,
   "id": "ba1958a7",
   "metadata": {},
   "outputs": [],
   "source": [
    "parse_tree = parser.parse(text)"
   ]
  },
  {
   "cell_type": "code",
   "execution_count": 30,
   "id": "43cb769c",
   "metadata": {},
   "outputs": [
    {
     "data": {
      "text/plain": [
       "Tree(Token('RULE', 'start'), [Tree('change_color', [Token('COLOR', 'red'), Token('COLOR', 'yellow')]), Tree('fill', [Tree(Token('RULE', 'code_block'), [Tree('repeat', [Token('NUMBER', '36'), Tree(Token('RULE', 'code_block'), [Tree('movement', [Token('MOVEMENT', 'f'), Token('NUMBER', '200')]), Tree('movement', [Token('MOVEMENT', 'l'), Token('NUMBER', '170')])])])])])])"
      ]
     },
     "execution_count": 30,
     "metadata": {},
     "output_type": "execute_result"
    }
   ],
   "source": [
    "parse_tree"
   ]
  },
  {
   "cell_type": "code",
   "execution_count": 31,
   "id": "853ec185",
   "metadata": {},
   "outputs": [
    {
     "name": "stdout",
     "output_type": "stream",
     "text": [
      "Tree('change_color', [Token('COLOR', 'red'), Token('COLOR', 'yellow')])\n",
      "Tree('fill', [Tree(Token('RULE', 'code_block'), [Tree('repeat', [Token('NUMBER', '36'), Tree(Token('RULE', 'code_block'), [Tree('movement', [Token('MOVEMENT', 'f'), Token('NUMBER', '200')]), Tree('movement', [Token('MOVEMENT', 'l'), Token('NUMBER', '170')])])])])])\n"
     ]
    }
   ],
   "source": [
    "for inst in parse_tree.children:\n",
    "    print(inst)"
   ]
  },
  {
   "cell_type": "markdown",
   "id": "e3843051",
   "metadata": {},
   "source": [
    "### grammar+"
   ]
  },
  {
   "cell_type": "code",
   "execution_count": 101,
   "id": "64aa6e8c",
   "metadata": {},
   "outputs": [],
   "source": [
    "avt_grammar = \"\"\"\n",
    "    start: instruction+\n",
    "    instruction: OPERATOR NUMBER NUMBER     -> operator\n",
    "               | OPERATOR \"∅\" NUMBER     -> operator\n",
    "               | \"Ⰺ\" NUMBER NUMBER NUMBER NUMBER -> chi_sq\n",
    "               | \"ѯ\" NUMBER NUMBER          -> percent\n",
    "               | \"ᬈ\" vector vector -> corr\n",
    "    vector: \"『\" NUMBER NUMBER NUMBER NUMBER NUMBER NUMBER \"』\"\n",
    "    OPERATOR: \"ᛝ\"|\"ᚸ\"|\"ᛪ\"|\"ᛄ\"\n",
    "    %import common.LETTER\n",
    "    %import common.INT -> NUMBER\n",
    "    %import common.WS\n",
    "    %ignore WS\n",
    "\"\"\""
   ]
  },
  {
   "cell_type": "code",
   "execution_count": 102,
   "id": "930967f6",
   "metadata": {},
   "outputs": [],
   "source": [
    "parser = Lark(avt_grammar)"
   ]
  },
  {
   "cell_type": "code",
   "execution_count": 103,
   "id": "4450d34c",
   "metadata": {},
   "outputs": [],
   "source": [
    "avt_code = \"\"\"\n",
    "        ᚸ 100 20\n",
    "        ᛄ 100 2\n",
    "        Ⰺ 113 144 125 129\n",
    "        ᬈ 『10 15 10 13 10 21』『14 18 10 18 6 19』\n",
    "        ѯ 100 13\n",
    "    \"\"\""
   ]
  },
  {
   "cell_type": "code",
   "execution_count": 104,
   "id": "37ce21ac",
   "metadata": {},
   "outputs": [],
   "source": [
    "parse_tree = parser.parse(avt_code)"
   ]
  },
  {
   "cell_type": "code",
   "execution_count": 105,
   "id": "a569bd60",
   "metadata": {},
   "outputs": [
    {
     "data": {
      "text/plain": [
       "Tree(Token('RULE', 'start'), [Tree('operator', [Token('OPERATOR', 'ᚸ'), Token('NUMBER', '100'), Token('NUMBER', '20')]), Tree('operator', [Token('OPERATOR', 'ᛄ'), Token('NUMBER', '100'), Token('NUMBER', '2')]), Tree('chi_sq', [Token('NUMBER', '113'), Token('NUMBER', '144'), Token('NUMBER', '125'), Token('NUMBER', '129')]), Tree('corr', [Tree(Token('RULE', 'vector'), [Token('NUMBER', '10'), Token('NUMBER', '15'), Token('NUMBER', '10'), Token('NUMBER', '13'), Token('NUMBER', '10'), Token('NUMBER', '21')]), Tree(Token('RULE', 'vector'), [Token('NUMBER', '14'), Token('NUMBER', '18'), Token('NUMBER', '10'), Token('NUMBER', '18'), Token('NUMBER', '6'), Token('NUMBER', '19')])]), Tree('percent', [Token('NUMBER', '100'), Token('NUMBER', '13')])])"
      ]
     },
     "execution_count": 105,
     "metadata": {},
     "output_type": "execute_result"
    }
   ],
   "source": [
    "parse_tree"
   ]
  },
  {
   "cell_type": "code",
   "execution_count": 106,
   "id": "fdcb554e",
   "metadata": {},
   "outputs": [
    {
     "name": "stdout",
     "output_type": "stream",
     "text": [
      "Tree('operator', [Token('OPERATOR', 'ᚸ'), Token('NUMBER', '100'), Token('NUMBER', '20')])\n",
      "Tree('operator', [Token('OPERATOR', 'ᛄ'), Token('NUMBER', '100'), Token('NUMBER', '2')])\n",
      "Tree('chi_sq', [Token('NUMBER', '113'), Token('NUMBER', '144'), Token('NUMBER', '125'), Token('NUMBER', '129')])\n",
      "Tree('corr', [Tree(Token('RULE', 'vector'), [Token('NUMBER', '10'), Token('NUMBER', '15'), Token('NUMBER', '10'), Token('NUMBER', '13'), Token('NUMBER', '10'), Token('NUMBER', '21')]), Tree(Token('RULE', 'vector'), [Token('NUMBER', '14'), Token('NUMBER', '18'), Token('NUMBER', '10'), Token('NUMBER', '18'), Token('NUMBER', '6'), Token('NUMBER', '19')])])\n",
      "Tree('percent', [Token('NUMBER', '100'), Token('NUMBER', '13')])\n"
     ]
    }
   ],
   "source": [
    "for inst in parse_tree.children:\n",
    "    print(inst)"
   ]
  },
  {
   "cell_type": "code",
   "execution_count": 40,
   "id": "f01570b8",
   "metadata": {},
   "outputs": [],
   "source": [
    "from scipy.stats import chisquare"
   ]
  },
  {
   "cell_type": "code",
   "execution_count": 42,
   "id": "aa0c7848",
   "metadata": {},
   "outputs": [
    {
     "data": {
      "text/plain": [
       "0.9188914116546758"
      ]
     },
     "execution_count": 42,
     "metadata": {},
     "output_type": "execute_result"
    }
   ],
   "source": [
    "ch = chisquare([16, 18, 16, 14])\n",
    "ch.pvalue"
   ]
  },
  {
   "cell_type": "code",
   "execution_count": 107,
   "id": "67609b83",
   "metadata": {},
   "outputs": [],
   "source": [
    "from scipy.stats import chisquare\n",
    "import numpy as np\n",
    "\n",
    "def summation(num1, num2):\n",
    "    return int(num1) + int(num2)\n",
    "\n",
    "def subtraction(num1, num2):\n",
    "    return int(num1) - int(num2)\n",
    "\n",
    "def multiplication(num1, num2):\n",
    "    return int(num1) * int(num2)\n",
    "\n",
    "def division(num1, num2):\n",
    "    if num2 == '0':\n",
    "        return '∅'\n",
    "    return int(num1) / int(num2)\n",
    "\n",
    "def run_instruction(t):\n",
    "    if t.data == 'operator':\n",
    "        name, number1, number2 = t.children \n",
    "        if number1 == '∅' or number2 == '∅':\n",
    "            return '∅'\n",
    "        return {'ᛝ': summation,\n",
    "          'ᚸ': subtraction,\n",
    "          'ᛪ': multiplication,\n",
    "          'ᛄ': division}[name](number1, number2)\n",
    "\n",
    "    elif t.data == 'chi_sq':\n",
    "        square_values = [int(val) for val in t.children]\n",
    "        ch = chisquare(square_values)\n",
    "        return(ch.pvalue)\n",
    "    \n",
    "    elif t.data == 'percent':\n",
    "        number1, number2 = t.children\n",
    "        return int(number2) / int(number1) * 100\n",
    "\n",
    "    elif t.data == 'corr':\n",
    "        vec1, vec2 = t.children\n",
    "        array1 = np.array([int(val) for val in vec1.children])\n",
    "        array2 = np.array([int(val) for val in vec2.children])\n",
    "        return np.corrcoef(array1, array2)[0][1]\n",
    "\n",
    "    else:\n",
    "        raise SyntaxError('Unknown instruction: %s' % t.data)"
   ]
  },
  {
   "cell_type": "code",
   "execution_count": 108,
   "id": "23c36bdb",
   "metadata": {},
   "outputs": [
    {
     "name": "stdout",
     "output_type": "stream",
     "text": [
      "80\n",
      "50.0\n",
      "0.27909720379860026\n",
      "0.7359363818524864\n",
      "13.0\n"
     ]
    }
   ],
   "source": [
    "for inst in parse_tree.children:\n",
    "    print(run_instruction(inst))"
   ]
  },
  {
   "cell_type": "code",
   "execution_count": 109,
   "id": "3b5f5460",
   "metadata": {},
   "outputs": [],
   "source": [
    "avt_code0 = \"\"\"\n",
    "        ᛄ 100 0\n",
    "        ᛝ ∅ 3\n",
    "    \"\"\""
   ]
  },
  {
   "cell_type": "code",
   "execution_count": 110,
   "id": "c54d5bba",
   "metadata": {},
   "outputs": [],
   "source": [
    "parse_tree0 = parser.parse(avt_code0)"
   ]
  },
  {
   "cell_type": "code",
   "execution_count": 112,
   "id": "faa4111c",
   "metadata": {},
   "outputs": [
    {
     "name": "stdout",
     "output_type": "stream",
     "text": [
      "Tree('operator', [Token('OPERATOR', 'ᛄ'), Token('NUMBER', '100'), Token('NUMBER', '0')])\n",
      "Tree('operator', [Token('OPERATOR', 'ᛝ'), Token('NUMBER', '3')])\n"
     ]
    }
   ],
   "source": [
    "for inst in parse_tree0.children:\n",
    "    print(inst)"
   ]
  },
  {
   "cell_type": "code",
   "execution_count": 111,
   "id": "81997ae6",
   "metadata": {},
   "outputs": [
    {
     "name": "stdout",
     "output_type": "stream",
     "text": [
      "∅\n"
     ]
    },
    {
     "ename": "ValueError",
     "evalue": "not enough values to unpack (expected 3, got 2)",
     "output_type": "error",
     "traceback": [
      "\u001b[0;31m---------------------------------------------------------------------------\u001b[0m",
      "\u001b[0;31mValueError\u001b[0m                                Traceback (most recent call last)",
      "\u001b[0;32m<ipython-input-111-eb056bbc4c3b>\u001b[0m in \u001b[0;36m<module>\u001b[0;34m\u001b[0m\n\u001b[1;32m      1\u001b[0m \u001b[0;32mfor\u001b[0m \u001b[0minst\u001b[0m \u001b[0;32min\u001b[0m \u001b[0mparse_tree0\u001b[0m\u001b[0;34m.\u001b[0m\u001b[0mchildren\u001b[0m\u001b[0;34m:\u001b[0m\u001b[0;34m\u001b[0m\u001b[0;34m\u001b[0m\u001b[0m\n\u001b[0;32m----> 2\u001b[0;31m     \u001b[0mprint\u001b[0m\u001b[0;34m(\u001b[0m\u001b[0mrun_instruction\u001b[0m\u001b[0;34m(\u001b[0m\u001b[0minst\u001b[0m\u001b[0;34m)\u001b[0m\u001b[0;34m)\u001b[0m\u001b[0;34m\u001b[0m\u001b[0;34m\u001b[0m\u001b[0m\n\u001b[0m",
      "\u001b[0;32m<ipython-input-107-f1fe17c5c191>\u001b[0m in \u001b[0;36mrun_instruction\u001b[0;34m(t)\u001b[0m\n\u001b[1;32m     18\u001b[0m \u001b[0;32mdef\u001b[0m \u001b[0mrun_instruction\u001b[0m\u001b[0;34m(\u001b[0m\u001b[0mt\u001b[0m\u001b[0;34m)\u001b[0m\u001b[0;34m:\u001b[0m\u001b[0;34m\u001b[0m\u001b[0;34m\u001b[0m\u001b[0m\n\u001b[1;32m     19\u001b[0m     \u001b[0;32mif\u001b[0m \u001b[0mt\u001b[0m\u001b[0;34m.\u001b[0m\u001b[0mdata\u001b[0m \u001b[0;34m==\u001b[0m \u001b[0;34m'operator'\u001b[0m\u001b[0;34m:\u001b[0m\u001b[0;34m\u001b[0m\u001b[0;34m\u001b[0m\u001b[0m\n\u001b[0;32m---> 20\u001b[0;31m         \u001b[0mname\u001b[0m\u001b[0;34m,\u001b[0m \u001b[0mnumber1\u001b[0m\u001b[0;34m,\u001b[0m \u001b[0mnumber2\u001b[0m \u001b[0;34m=\u001b[0m \u001b[0mt\u001b[0m\u001b[0;34m.\u001b[0m\u001b[0mchildren\u001b[0m\u001b[0;34m\u001b[0m\u001b[0;34m\u001b[0m\u001b[0m\n\u001b[0m\u001b[1;32m     21\u001b[0m         \u001b[0;32mif\u001b[0m \u001b[0mnumber1\u001b[0m \u001b[0;34m==\u001b[0m \u001b[0;34m'∅'\u001b[0m \u001b[0;32mor\u001b[0m \u001b[0mnumber2\u001b[0m \u001b[0;34m==\u001b[0m \u001b[0;34m'∅'\u001b[0m\u001b[0;34m:\u001b[0m\u001b[0;34m\u001b[0m\u001b[0;34m\u001b[0m\u001b[0m\n\u001b[1;32m     22\u001b[0m             \u001b[0;32mreturn\u001b[0m \u001b[0;34m'∅'\u001b[0m\u001b[0;34m\u001b[0m\u001b[0;34m\u001b[0m\u001b[0m\n",
      "\u001b[0;31mValueError\u001b[0m: not enough values to unpack (expected 3, got 2)"
     ]
    }
   ],
   "source": [
    "for inst in parse_tree0.children:\n",
    "    print(run_instruction(inst))"
   ]
  },
  {
   "cell_type": "markdown",
   "id": "fc6100ad",
   "metadata": {},
   "source": [
    "### experiment grammar"
   ]
  },
  {
   "cell_type": "code",
   "execution_count": 125,
   "id": "61ff27e2",
   "metadata": {},
   "outputs": [],
   "source": [
    "avt_grammar1 = \"\"\"\n",
    "    start: instruction+\n",
    "    instruction: OPERATOR NUMBER NUMBER     -> operator\n",
    "               | OPERATOR VALUE VALUE     -> operator\n",
    "               | \"Ⰺ\" NUMBER NUMBER NUMBER NUMBER -> chi_sq\n",
    "               | \"ѯ\" NUMBER NUMBER          -> percent\n",
    "               | \"ᬈ\" vector vector -> corr\n",
    "    vector: \"『\" NUMBER NUMBER NUMBER NUMBER NUMBER NUMBER \"』\"\n",
    "    OPERATOR: \"ᛝ\"|\"ᚸ\"|\"ᛪ\"|\"ᛄ\"\n",
    "    VALUE: NUMBER|\"∅\"|NUMBER\",\"NUMBER\n",
    "    %import common.LETTER\n",
    "    %import common.INT -> NUMBER\n",
    "    %import common.WS\n",
    "    %ignore WS\n",
    "\"\"\""
   ]
  },
  {
   "cell_type": "code",
   "execution_count": 126,
   "id": "0e75c7a9",
   "metadata": {},
   "outputs": [],
   "source": [
    "parser = Lark(avt_grammar1)"
   ]
  },
  {
   "cell_type": "code",
   "execution_count": 127,
   "id": "9717d068",
   "metadata": {},
   "outputs": [],
   "source": [
    "avt_code1 = \"\"\"\n",
    "        ᛄ 100 0\n",
    "        ᛝ ∅ 3\n",
    "        ᚸ 13,3 3\n",
    "    \"\"\""
   ]
  },
  {
   "cell_type": "code",
   "execution_count": 128,
   "id": "e8b61a3b",
   "metadata": {},
   "outputs": [
    {
     "data": {
      "text/plain": [
       "Tree(Token('RULE', 'start'), [Tree('operator', [Token('OPERATOR', 'ᛄ'), Token('NUMBER', '100'), Token('NUMBER', '0')]), Tree('operator', [Token('OPERATOR', 'ᛝ'), Token('VALUE', '∅'), Token('VALUE', '3')]), Tree('operator', [Token('OPERATOR', 'ᚸ'), Token('VALUE', '13,3'), Token('VALUE', '3')])])"
      ]
     },
     "execution_count": 128,
     "metadata": {},
     "output_type": "execute_result"
    }
   ],
   "source": [
    "parse_tree = parser.parse(avt_code1)\n",
    "parse_tree"
   ]
  },
  {
   "cell_type": "code",
   "execution_count": 129,
   "id": "a56dc812",
   "metadata": {},
   "outputs": [
    {
     "name": "stdout",
     "output_type": "stream",
     "text": [
      "Tree('operator', [Token('OPERATOR', 'ᛄ'), Token('NUMBER', '100'), Token('NUMBER', '0')])\n",
      "Tree('operator', [Token('OPERATOR', 'ᛝ'), Token('VALUE', '∅'), Token('VALUE', '3')])\n",
      "Tree('operator', [Token('OPERATOR', 'ᚸ'), Token('VALUE', '13,3'), Token('VALUE', '3')])\n"
     ]
    }
   ],
   "source": [
    "for inst in parse_tree.children:\n",
    "    print(inst)"
   ]
  },
  {
   "cell_type": "code",
   "execution_count": 130,
   "id": "b783e8e9",
   "metadata": {},
   "outputs": [],
   "source": [
    "from scipy.stats import chisquare\n",
    "import numpy as np\n",
    "\n",
    "def summation(num1, num2):\n",
    "    return float(num1) + float(num2)\n",
    "\n",
    "def subtraction(num1, num2):\n",
    "    return float(num1) - float(num2)\n",
    "\n",
    "def multiplication(num1, num2):\n",
    "    return float(num1) * float(num2)\n",
    "\n",
    "def division(num1, num2):\n",
    "    if num2 == '0':\n",
    "        return '∅'\n",
    "    return float(num1) / float(num2)\n",
    "\n",
    "def float_true(val):\n",
    "    if ',' in val:\n",
    "        return val.replace(',', '.')\n",
    "    else:\n",
    "        return val\n",
    "\n",
    "def run_instruction(t):\n",
    "    if t.data == 'operator':\n",
    "        name, number1, number2 = t.children \n",
    "        if number1 == '∅' or number2 == '∅':\n",
    "            return '∅'\n",
    "        else:\n",
    "            number1 = float_true(number1)\n",
    "            number2 = float_true(number2)\n",
    "        return {'ᛝ': summation,\n",
    "          'ᚸ': subtraction,\n",
    "          'ᛪ': multiplication,\n",
    "          'ᛄ': division}[name](number1, number2)\n",
    "\n",
    "    elif t.data == 'chi_sq':\n",
    "        square_values = [int(val) for val in t.children]\n",
    "        ch = chisquare(square_values)\n",
    "        return(ch.pvalue)\n",
    "    \n",
    "    elif t.data == 'percent':\n",
    "        number1, number2 = t.children\n",
    "        return int(number2) / int(number1) * 100\n",
    "\n",
    "    elif t.data == 'corr':\n",
    "        vec1, vec2 = t.children\n",
    "        array1 = np.array([int(val) for val in vec1.children])\n",
    "        array2 = np.array([int(val) for val in vec2.children])\n",
    "        return np.corrcoef(array1, array2)[0][1]\n",
    "\n",
    "    else:\n",
    "        raise SyntaxError('Unknown instruction: %s' % t.data)"
   ]
  },
  {
   "cell_type": "code",
   "execution_count": 131,
   "id": "09d82437",
   "metadata": {},
   "outputs": [
    {
     "name": "stdout",
     "output_type": "stream",
     "text": [
      "∅\n",
      "∅\n",
      "10.3\n"
     ]
    }
   ],
   "source": [
    "for inst in parse_tree.children:\n",
    "    print(run_instruction(inst))"
   ]
  },
  {
   "cell_type": "markdown",
   "id": "c594e379",
   "metadata": {},
   "source": [
    "### extend grammar: var assign, operators, conditions"
   ]
  },
  {
   "cell_type": "code",
   "execution_count": 385,
   "id": "d95f504d",
   "metadata": {},
   "outputs": [],
   "source": [
    "avt_grammar3 = \"\"\"\n",
    "    start: instruction+\n",
    "    instruction: OPERATOR NUMBER+     -> operator\n",
    "               | \"Ⰺ\" ( NUMBER~4 | vector | WORD ) -> chi_sq\n",
    "               | \"ѯ\" ( NUMBER~2 | vector | WORD ) -> percent\n",
    "               | \"ᬈ\" ( vector~2 | WORD~2 ) -> corr\n",
    "               | WORD NUMBER    -> assign_var\n",
    "               | CONDITION NUMBER~2 -> condition_digit\n",
    "    vector: \"『\"  NUMBER* \"』\"\n",
    "    OPERATOR: \"ᛝ\"|\"ᚸ\"|\"ᛪ\"|\"ᛄ\"\n",
    "    CONDITION: \"𐄷\"|\"𑚐\"|\"≈\"|\"≉\"|\"អ\"|\"᭕\"|\"ゅ\"\n",
    "    \n",
    "    NUMBER: (DIGIT+ \",\" DIGIT+ | DIGIT+ | \"∅\")\n",
    "    WHITESPACE: (\" \" | \"\\\\n\" | \"\\\\t\")+\n",
    "    \n",
    "    %import common.DIGIT\n",
    "    %import common.WORD\n",
    "    %ignore WHITESPACE\n",
    "\"\"\""
   ]
  },
  {
   "cell_type": "code",
   "execution_count": 387,
   "id": "f2d423e5",
   "metadata": {},
   "outputs": [],
   "source": [
    "parser = Lark(avt_grammar3, parser=\"lalr\" )"
   ]
  },
  {
   "cell_type": "code",
   "execution_count": 388,
   "id": "9975e224",
   "metadata": {},
   "outputs": [],
   "source": [
    "avt_code1 = \"\"\"\n",
    "        ᬈ 『10 15 10 13 10 21』『14 18 10 18 6 19』\n",
    "        ᛄ 100 0\n",
    "        ᛝ ∅ 3\n",
    "        ᚸ 13,3 3\n",
    "        orationem 43,74\n",
    "        𐄷 4 3\n",
    "        𑚐 24,3 24,4\n",
    "        \n",
    "    \"\"\""
   ]
  },
  {
   "cell_type": "code",
   "execution_count": 389,
   "id": "fd210b09",
   "metadata": {},
   "outputs": [
    {
     "data": {
      "text/plain": [
       "Tree(Token('RULE', 'start'), [Tree('corr', [Tree(Token('RULE', 'vector'), [Token('NUMBER', '10'), Token('NUMBER', '15'), Token('NUMBER', '10'), Token('NUMBER', '13'), Token('NUMBER', '10'), Token('NUMBER', '21')]), Tree(Token('RULE', 'vector'), [Token('NUMBER', '14'), Token('NUMBER', '18'), Token('NUMBER', '10'), Token('NUMBER', '18'), Token('NUMBER', '6'), Token('NUMBER', '19')])]), Tree('operator', [Token('OPERATOR', 'ᛄ'), Token('NUMBER', '100'), Token('NUMBER', '0')]), Tree('operator', [Token('OPERATOR', 'ᛝ'), Token('NUMBER', '∅'), Token('NUMBER', '3')]), Tree('operator', [Token('OPERATOR', 'ᚸ'), Token('NUMBER', '13,3'), Token('NUMBER', '3')]), Tree('assign_var', [Token('WORD', 'orationem'), Token('NUMBER', '43,74')]), Tree('condition_digit', [Token('CONDITION', '𐄷'), Token('NUMBER', '4'), Token('NUMBER', '3')]), Tree('condition_digit', [Token('CONDITION', '𑚐'), Token('NUMBER', '24,3'), Token('NUMBER', '24,4')])])"
      ]
     },
     "execution_count": 389,
     "metadata": {},
     "output_type": "execute_result"
    }
   ],
   "source": [
    "parse_tree = parser.parse(avt_code1)\n",
    "parse_tree"
   ]
  },
  {
   "cell_type": "code",
   "execution_count": 390,
   "id": "6ad7c53c",
   "metadata": {},
   "outputs": [],
   "source": [
    "class AvtandilProg():\n",
    "    \n",
    "    def __init__(self):\n",
    "        self.vars = {'𐃰': ''}\n",
    "\n",
    "    def assign_var(self, nv):\n",
    "        try:\n",
    "            name, value = nv.children\n",
    "            name = str(name)\n",
    "            value = str(value)\n",
    "        except:\n",
    "            name, value = nv\n",
    "        self.vars[name] = value\n",
    "        return value\n",
    "\n",
    "    def var(self, name):\n",
    "        return self.vars[name]\n",
    "    \n",
    "    def summation(self, num1, num2):\n",
    "        return float(num1) + float(num2)\n",
    "    \n",
    "    def subtraction(self, num1, num2):\n",
    "        return float(num1) - float(num2)\n",
    "    \n",
    "    def multiplication(self, num1, num2):\n",
    "        return float(num1) * float(num2)\n",
    "    \n",
    "    def division(self, num1, num2):\n",
    "        if num2 == '0':\n",
    "            return '∅'\n",
    "        return float(num1) / float(num2)\n",
    "    \n",
    "    def float_true(self, val):\n",
    "        if ',' in val:\n",
    "            return val.replace(',', '.')\n",
    "        else:\n",
    "            return val\n",
    "    \n",
    "    def run_instruction(self, t):\n",
    "        if t.data == 'operator':\n",
    "            oper = str(t.children[0])\n",
    "            numbers = []\n",
    "            val = 0\n",
    "            for num in t.children[1:]:\n",
    "                num = str(num)\n",
    "                if num == '∅':\n",
    "                    val = '∅'\n",
    "                    break\n",
    "                else:\n",
    "                    numbers.append(float_true(num))\n",
    "            if not val:\n",
    "                for i,n in enumerate(numbers):\n",
    "                    if not i:\n",
    "                        val = n\n",
    "                    elif val == '∅':\n",
    "                        break\n",
    "                    else:\n",
    "                        val = {'ᛝ': summation,\n",
    "                               'ᚸ': subtraction,\n",
    "                               'ᛪ': multiplication,\n",
    "                               'ᛄ': division}[oper](val, n)\n",
    "            self.assign_var(('𐃰', val))\n",
    "    \n",
    "        elif t.data == 'chi_sq':\n",
    "            square_values = [float(val) for val in t.children]\n",
    "            ch = chisquare(square_values)\n",
    "            return(ch.pvalue)\n",
    "        \n",
    "        elif t.data == 'percent':\n",
    "            number1, number2 = t.children\n",
    "            return float(number2) / float(number1) * 100\n",
    "    \n",
    "        elif t.data == 'corr':\n",
    "            vec1, vec2 = t.children\n",
    "            array1 = np.array([float(val) for val in vec1.children])\n",
    "            array2 = np.array([float(val) for val in vec2.children])\n",
    "            return np.corrcoef(array1, array2)[0][1]  \n",
    "    \n",
    "        else:\n",
    "            raise SyntaxError('Unknown instruction: %s' % t.data)\n",
    "    \n",
    "    def condition_digit(self, cnd):\n",
    "        condition, value1, value2 = cnd.children\n",
    "        \n",
    "        if condition == '𐄷':\n",
    "            if float(float_true(value1)) == float(float_true(value2)):\n",
    "                return True\n",
    "            else:\n",
    "                return False\n",
    "                                                 \n",
    "        elif condition == '𑚐':\n",
    "            if float(float_true(value1)) != float(float_true(value2)):\n",
    "                return True\n",
    "            else:\n",
    "                return False\n",
    "                                                 \n",
    "        elif condition == '≈':\n",
    "            value1 = float(float_true(value1))\n",
    "            value2 = float(float_true(value2))\n",
    "            if 0 <= value1 - value2 <= 1 or 0 <= value2 - value1 <= 1:\n",
    "                return True\n",
    "            else:\n",
    "                return False\n",
    "        \n",
    "        #elif condition == '≉':\n",
    "            #value1 = float(float_true(value1))\n",
    "            #value2 = float(float_true(value2))\n",
    "            #if 0 > value1 - value2 >= 1 and value2 - value1 >= 1:\n",
    "                #return True\n",
    "            #else:\n",
    "                #return False"
   ]
  },
  {
   "cell_type": "code",
   "execution_count": 391,
   "id": "a3305f4e",
   "metadata": {},
   "outputs": [],
   "source": [
    "avt = AvtandilProg()"
   ]
  },
  {
   "cell_type": "code",
   "execution_count": 392,
   "id": "29a64995",
   "metadata": {},
   "outputs": [
    {
     "data": {
      "text/plain": [
       "Tree('corr', [Tree(Token('RULE', 'vector'), [Token('NUMBER', '10'), Token('NUMBER', '15'), Token('NUMBER', '10'), Token('NUMBER', '13'), Token('NUMBER', '10'), Token('NUMBER', '21')]), Tree(Token('RULE', 'vector'), [Token('NUMBER', '14'), Token('NUMBER', '18'), Token('NUMBER', '10'), Token('NUMBER', '18'), Token('NUMBER', '6'), Token('NUMBER', '19')])])"
      ]
     },
     "execution_count": 392,
     "metadata": {},
     "output_type": "execute_result"
    }
   ],
   "source": [
    "parse_tree.children[0]"
   ]
  },
  {
   "cell_type": "code",
   "execution_count": 393,
   "id": "98178de3",
   "metadata": {},
   "outputs": [
    {
     "data": {
      "text/plain": [
       "Tree('operator', [Token('OPERATOR', 'ᚸ'), Token('NUMBER', '13,3'), Token('NUMBER', '3')])"
      ]
     },
     "execution_count": 393,
     "metadata": {},
     "output_type": "execute_result"
    }
   ],
   "source": [
    "parse_tree.children[3]"
   ]
  },
  {
   "cell_type": "code",
   "execution_count": 394,
   "id": "6a26c9ee",
   "metadata": {},
   "outputs": [],
   "source": [
    "avt.run_instruction(parse_tree.children[3])"
   ]
  },
  {
   "cell_type": "code",
   "execution_count": 395,
   "id": "f81c50d9",
   "metadata": {},
   "outputs": [
    {
     "data": {
      "text/plain": [
       "10.3"
      ]
     },
     "execution_count": 395,
     "metadata": {},
     "output_type": "execute_result"
    }
   ],
   "source": [
    "avt.vars['𐃰']"
   ]
  },
  {
   "cell_type": "code",
   "execution_count": 396,
   "id": "4cc8bbbe",
   "metadata": {},
   "outputs": [
    {
     "data": {
      "text/plain": [
       "Tree('assign_var', [Token('WORD', 'orationem'), Token('NUMBER', '43,74')])"
      ]
     },
     "execution_count": 396,
     "metadata": {},
     "output_type": "execute_result"
    }
   ],
   "source": [
    "parse_tree.children[4]"
   ]
  },
  {
   "cell_type": "code",
   "execution_count": 397,
   "id": "3377e68e",
   "metadata": {},
   "outputs": [
    {
     "data": {
      "text/plain": [
       "'43,74'"
      ]
     },
     "execution_count": 397,
     "metadata": {},
     "output_type": "execute_result"
    }
   ],
   "source": [
    "avt.assign_var(parse_tree.children[4])"
   ]
  },
  {
   "cell_type": "code",
   "execution_count": 398,
   "id": "eafdc774",
   "metadata": {},
   "outputs": [
    {
     "data": {
      "text/plain": [
       "{'𐃰': 10.3, 'orationem': '43,74'}"
      ]
     },
     "execution_count": 398,
     "metadata": {},
     "output_type": "execute_result"
    }
   ],
   "source": [
    "avt.vars"
   ]
  },
  {
   "cell_type": "code",
   "execution_count": 399,
   "id": "07f70c01",
   "metadata": {},
   "outputs": [
    {
     "data": {
      "text/plain": [
       "Tree('condition_digit', [Token('CONDITION', '𐄷'), Token('NUMBER', '4'), Token('NUMBER', '3')])"
      ]
     },
     "execution_count": 399,
     "metadata": {},
     "output_type": "execute_result"
    }
   ],
   "source": [
    "parse_tree.children[5]"
   ]
  },
  {
   "cell_type": "code",
   "execution_count": 400,
   "id": "fe98e740",
   "metadata": {},
   "outputs": [
    {
     "data": {
      "text/plain": [
       "False"
      ]
     },
     "execution_count": 400,
     "metadata": {},
     "output_type": "execute_result"
    }
   ],
   "source": [
    "avt.condition_digit(parse_tree.children[5])"
   ]
  },
  {
   "cell_type": "code",
   "execution_count": 401,
   "id": "0cc4cd67",
   "metadata": {},
   "outputs": [
    {
     "data": {
      "text/plain": [
       "Tree('condition_digit', [Token('CONDITION', '𑚐'), Token('NUMBER', '24,3'), Token('NUMBER', '24,4')])"
      ]
     },
     "execution_count": 401,
     "metadata": {},
     "output_type": "execute_result"
    }
   ],
   "source": [
    "parse_tree.children[6]"
   ]
  },
  {
   "cell_type": "code",
   "execution_count": 402,
   "id": "ed3440fa",
   "metadata": {},
   "outputs": [
    {
     "data": {
      "text/plain": [
       "True"
      ]
     },
     "execution_count": 402,
     "metadata": {},
     "output_type": "execute_result"
    }
   ],
   "source": [
    "avt.condition_digit(parse_tree.children[6])"
   ]
  },
  {
   "cell_type": "code",
   "execution_count": 403,
   "id": "44cff605",
   "metadata": {},
   "outputs": [
    {
     "name": "stdout",
     "output_type": "stream",
     "text": [
      "start\n",
      "  corr\n",
      "    vector\n",
      "      10\n",
      "      15\n",
      "      10\n",
      "      13\n",
      "      10\n",
      "      21\n",
      "    vector\n",
      "      14\n",
      "      18\n",
      "      10\n",
      "      18\n",
      "      6\n",
      "      19\n",
      "  operator\n",
      "    ᛄ\n",
      "    100\n",
      "    0\n",
      "  operator\n",
      "    ᛝ\n",
      "    ∅\n",
      "    3\n",
      "  operator\n",
      "    ᚸ\n",
      "    13,3\n",
      "    3\n",
      "  assign_var\n",
      "    orationem\n",
      "    43,74\n",
      "  condition_digit\n",
      "    𐄷\n",
      "    4\n",
      "    3\n",
      "  condition_digit\n",
      "    𑚐\n",
      "    24,3\n",
      "    24,4\n",
      "\n"
     ]
    }
   ],
   "source": [
    "print(parse_tree.pretty()) "
   ]
  },
  {
   "cell_type": "code",
   "execution_count": null,
   "id": "c8d85dfa",
   "metadata": {},
   "outputs": [],
   "source": []
  },
  {
   "cell_type": "code",
   "execution_count": null,
   "id": "98bf54d1",
   "metadata": {},
   "outputs": [],
   "source": []
  }
 ],
 "metadata": {
  "kernelspec": {
   "display_name": "Python 3",
   "language": "python",
   "name": "python3"
  },
  "language_info": {
   "codemirror_mode": {
    "name": "ipython",
    "version": 3
   },
   "file_extension": ".py",
   "mimetype": "text/x-python",
   "name": "python",
   "nbconvert_exporter": "python",
   "pygments_lexer": "ipython3",
   "version": "3.8.10"
  },
  "toc": {
   "base_numbering": 1,
   "nav_menu": {},
   "number_sections": true,
   "sideBar": true,
   "skip_h1_title": true,
   "title_cell": "Table of Contents",
   "title_sidebar": "Contents",
   "toc_cell": false,
   "toc_position": {
    "height": "calc(100% - 180px)",
    "left": "10px",
    "top": "150px",
    "width": "384px"
   },
   "toc_section_display": true,
   "toc_window_display": true
  },
  "varInspector": {
   "cols": {
    "lenName": 16,
    "lenType": 16,
    "lenVar": 40
   },
   "kernels_config": {
    "python": {
     "delete_cmd_postfix": "",
     "delete_cmd_prefix": "del ",
     "library": "var_list.py",
     "varRefreshCmd": "print(var_dic_list())"
    },
    "r": {
     "delete_cmd_postfix": ") ",
     "delete_cmd_prefix": "rm(",
     "library": "var_list.r",
     "varRefreshCmd": "cat(var_dic_list()) "
    }
   },
   "types_to_exclude": [
    "module",
    "function",
    "builtin_function_or_method",
    "instance",
    "_Feature"
   ],
   "window_display": false
  }
 },
 "nbformat": 4,
 "nbformat_minor": 5
}
